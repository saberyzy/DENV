{
 "cells": [
  {
   "cell_type": "code",
   "execution_count": 1,
   "metadata": {},
   "outputs": [],
   "source": [
    "# author:     Yike Xie\n",
    "# date:       07/09/21\n",
    "# content:    Get differential expressed interactions between immune cells of dengue kids and endothelial cells"
   ]
  },
  {
   "cell_type": "code",
   "execution_count": 2,
   "metadata": {},
   "outputs": [],
   "source": [
    "import os\n",
    "\n",
    "import numpy as np\n",
    "import pandas as pd\n",
    "\n",
    "import anndata\n",
    "import scanpy as sc\n",
    "\n",
    "import matplotlib.pyplot as plt\n",
    "import matplotlib.lines as mlines\n",
    "import matplotlib.patches as mpatches\n",
    "from matplotlib.collections import PatchCollection\n",
    "from matplotlib import gridspec\n",
    "import matplotlib as mpl\n",
    "import seaborn as sns\n",
    "\n",
    "from collections import defaultdict\n",
    "import random\n",
    "import itertools\n",
    "from numpy import *    "
   ]
  },
  {
   "cell_type": "code",
   "execution_count": 3,
   "metadata": {},
   "outputs": [],
   "source": [
    "import sys\n",
    "sys.path.append('/home/yike/phd/dengue/dengue_children/modules/') #enter the YK_util file directory\n",
    "import YK_util, optimized_pair_comparison\n",
    "from YK_util import *\n",
    "from optimized_pair_comparison import *"
   ]
  },
  {
   "cell_type": "markdown",
   "metadata": {},
   "source": [
    "# get interaction with endothelial cells"
   ]
  },
  {
   "cell_type": "code",
   "execution_count": 4,
   "metadata": {},
   "outputs": [
    {
     "name": "stderr",
     "output_type": "stream",
     "text": [
      "/home/yike/.conda/envs/scanpy/lib/python3.8/site-packages/anndata/_core/anndata.py:1095: FutureWarning: The `inplace` parameter in pandas.Categorical.remove_unused_categories is deprecated and will be removed in a future version.\n",
      "  df_sub[k].cat.remove_unused_categories(inplace=True)\n"
     ]
    }
   ],
   "source": [
    "adata_endo = sc.read_h5ad('/home/yike/phd/dataset_from_google/Tabula_Sapiens_Single_Cell_Dataset/TS_Endothelial.h5ad')\n",
    "adata_endo = normalizedata(adata_endo, log1p=False) # didn't log1p\n",
    "adata_endo = removegenes(adata_endo)"
   ]
  },
  {
   "cell_type": "code",
   "execution_count": 6,
   "metadata": {},
   "outputs": [
    {
     "name": "stdout",
     "output_type": "stream",
     "text": [
      "load dengue dataset DEIs\n"
     ]
    }
   ],
   "source": [
    "print('load dengue dataset DEIs')\n",
    "save_tables = '/home/yike/phd/dengue/docs/paper_draft/tabels/full_omnipath/'\n",
    "ct_res = pd.read_csv(save_tables + 'sig_ct_inters.tsv', sep='\\t')\n",
    "up = ct_res[ct_res['inter_type'] == 'up']\n",
    "mix = ct_res[ct_res['inter_type'] == 'mix']"
   ]
  },
  {
   "cell_type": "code",
   "execution_count": 7,
   "metadata": {},
   "outputs": [
    {
     "data": {
      "text/plain": [
       "array(['ADAM15', 'ADAM28', 'ADGRE5', 'ALCAM', 'CAP1', 'CD14', 'CD2',\n",
       "       'CD36', 'CD44', 'CD55', 'CD63', 'COL6A3', 'CXCR3', 'EZR', 'GNAI2',\n",
       "       'HLA-DPA1', 'HLA-DPB1', 'HLA-DRB1', 'ITGA4', 'ITGB1', 'ITGB2',\n",
       "       'ITGB7', 'KTN1', 'LAG3', 'LGALS3', 'MIF', 'RAC1', 'RETN',\n",
       "       'S100A12', 'S100A8', 'S100A9', 'SELL', 'TIMP1', 'TLN1', 'VCAN'],\n",
       "      dtype=object)"
      ]
     },
     "execution_count": 7,
     "metadata": {},
     "output_type": "execute_result"
    }
   ],
   "source": [
    "up_genes = np.unique(up[['ga', 'gb']])\n",
    "up_genes"
   ]
  },
  {
   "cell_type": "code",
   "execution_count": 8,
   "metadata": {
    "scrolled": true
   },
   "outputs": [],
   "source": [
    "endo_fra = np.array((adata_endo.X > 0).mean(axis=0)[0])[0]\n",
    "\n",
    "endo_fra = pd.DataFrame(endo_fra, columns=['fra'], index=adata_endo.var_names)"
   ]
  },
  {
   "cell_type": "code",
   "execution_count": 10,
   "metadata": {},
   "outputs": [],
   "source": [
    "endo_ls = []\n",
    "for gene in up_genes:\n",
    "    if gene not in endo_fra.index:\n",
    "        continue\n",
    "    if endo_fra.loc[gene]['fra'] >= 0.05:\n",
    "        endo_ls.append(gene) "
   ]
  },
  {
   "cell_type": "code",
   "execution_count": 11,
   "metadata": {},
   "outputs": [
    {
     "data": {
      "text/plain": [
       "['ADAM15',\n",
       " 'ADGRE5',\n",
       " 'ALCAM',\n",
       " 'CAP1',\n",
       " 'CD14',\n",
       " 'CD36',\n",
       " 'CD44',\n",
       " 'CD55',\n",
       " 'CD63',\n",
       " 'EZR',\n",
       " 'GNAI2',\n",
       " 'ITGB1',\n",
       " 'KTN1',\n",
       " 'LAG3',\n",
       " 'LGALS3',\n",
       " 'MIF',\n",
       " 'RAC1',\n",
       " 'S100A8',\n",
       " 'S100A9',\n",
       " 'TIMP1',\n",
       " 'TLN1',\n",
       " 'VCAN']"
      ]
     },
     "execution_count": 11,
     "metadata": {},
     "output_type": "execute_result"
    }
   ],
   "source": [
    "endo_ls"
   ]
  },
  {
   "cell_type": "code",
   "execution_count": 12,
   "metadata": {},
   "outputs": [
    {
     "data": {
      "text/plain": [
       "35"
      ]
     },
     "execution_count": 12,
     "metadata": {},
     "output_type": "execute_result"
    }
   ],
   "source": [
    "len(up_genes)"
   ]
  },
  {
   "cell_type": "code",
   "execution_count": 13,
   "metadata": {},
   "outputs": [
    {
     "data": {
      "text/plain": [
       "22"
      ]
     },
     "execution_count": 13,
     "metadata": {},
     "output_type": "execute_result"
    }
   ],
   "source": [
    "len(endo_ls)"
   ]
  },
  {
   "cell_type": "code",
   "execution_count": null,
   "metadata": {},
   "outputs": [],
   "source": []
  }
 ],
 "metadata": {
  "kernelspec": {
   "display_name": "Python 3",
   "language": "python",
   "name": "python3"
  },
  "language_info": {
   "codemirror_mode": {
    "name": "ipython",
    "version": 3
   },
   "file_extension": ".py",
   "mimetype": "text/x-python",
   "name": "python",
   "nbconvert_exporter": "python",
   "pygments_lexer": "ipython3",
   "version": "3.8.5"
  }
 },
 "nbformat": 4,
 "nbformat_minor": 4
}
